{
 "cells": [
  {
   "cell_type": "code",
   "execution_count": 4,
   "metadata": {},
   "outputs": [],
   "source": [
    "import pandas as pd\n",
    "import os\n",
    "import glob\n",
    "import pathlib\n",
    "import shutil\n",
    "from moleculekit.molecule import Molecule\n",
    "from Bio import SeqIO\n",
    "from Bio.Seq import Seq\n",
    "from Bio.SeqRecord import SeqRecord"
   ]
  },
  {
   "cell_type": "code",
   "execution_count": 53,
   "metadata": {},
   "outputs": [
    {
     "name": "stdout",
     "output_type": "stream",
     "text": [
      "/data_st02/drug/inoue/CGBVS\n"
     ]
    }
   ],
   "source": [
    "cd /data_st02/drug/inoue/CGBVS"
   ]
  },
  {
   "attachments": {},
   "cell_type": "markdown",
   "metadata": {},
   "source": [
    "## 読み込み"
   ]
  },
  {
   "attachments": {},
   "cell_type": "markdown",
   "metadata": {},
   "source": [
    "#### タンパク質のリスト"
   ]
  },
  {
   "cell_type": "code",
   "execution_count": 72,
   "metadata": {},
   "outputs": [
    {
     "name": "stdout",
     "output_type": "stream",
     "text": [
      "タンパク質の種類 : 392\n"
     ]
    }
   ],
   "source": [
    "prot_list = os.listdir('./data/original/kinase_chembl/')\n",
    "\n",
    "# print\n",
    "print(f'タンパク質の種類 : {len(prot_list)}')"
   ]
  },
  {
   "cell_type": "code",
   "execution_count": 73,
   "metadata": {},
   "outputs": [],
   "source": [
    "# タンパク質の名前, 配列のリスト\n",
    "prot_name_list, seq_len_list  = [], []\n",
    "for prot in prot_list:\n",
    "    seq_record = SeqIO.read(f\"./data/original/kinase_chembl/{prot}/protein.fa\", \"fasta\")\n",
    "    prot_name_list.append(seq_record.id)\n",
    "    seq_len_list.append(len(seq_record.seq))"
   ]
  },
  {
   "attachments": {},
   "cell_type": "markdown",
   "metadata": {},
   "source": [
    "#### 化合物のリスト"
   ]
  },
  {
   "cell_type": "code",
   "execution_count": 75,
   "metadata": {},
   "outputs": [],
   "source": [
    "# 化合物のリスト\n",
    "mol_count = []\n",
    "for prot in prot_list:\n",
    "    try:\n",
    "        data = pd.read_csv(f'./data/original/kinase_chembl/{prot}/assay.csv', header=None)\n",
    "        mol_count.append(len(data))\n",
    "    except:\n",
    "        print(f'no mol data : {prot}')\n",
    "        mol_count.append(0)\n"
   ]
  },
  {
   "attachments": {},
   "cell_type": "markdown",
   "metadata": {},
   "source": [
    "# 化合物"
   ]
  },
  {
   "attachments": {},
   "cell_type": "markdown",
   "metadata": {},
   "source": [
    "# タンパク質"
   ]
  },
  {
   "attachments": {},
   "cell_type": "markdown",
   "metadata": {},
   "source": [
    "### タンパク質配列"
   ]
  },
  {
   "cell_type": "code",
   "execution_count": 76,
   "metadata": {},
   "outputs": [
    {
     "name": "stdout",
     "output_type": "stream",
     "text": [
      "配列長TOP10 : [4128, 3056, 2549, 2527, 2347, 2027, 1914, 1732, 1711, 1649]\n",
      "配列長TOP10のタンパク質名 : ['PRKDC_HUMAN', 'ATM_HUMAN', 'MTOR_HUMAN', 'LRRK2_HUMAN', 'ROS1_HUMAN', 'CTRO_HUMAN', 'MYLK_HUMAN', 'MRCKA_HUMAN', 'MRCKB_HUMAN', 'E2AK4_HUMAN']\n",
      "配列長TOP10のタンパク質の化合物数 : [780, 3221, 4763, 580, 561, 81, 128, 845, 80, 85]\n"
     ]
    }
   ],
   "source": [
    "# 最大長\n",
    "rank = sorted(seq_len_list, reverse=True)\n",
    "print(f'配列長TOP10 : {rank[:10]}')\n",
    "print(f'配列長TOP10のタンパク質名 : {[prot_name_list[seq_len_list.index(i)] for i in rank[:10]]}')\n",
    "print(f'配列長TOP10のタンパク質の化合物数 : {[mol_count[seq_len_list.index(i)] for i in rank[:10]]}')\n",
    "# 分布\n"
   ]
  },
  {
   "cell_type": "code",
   "execution_count": null,
   "metadata": {},
   "outputs": [],
   "source": []
  }
 ],
 "metadata": {
  "kernelspec": {
   "display_name": "Python 3.7.10 64-bit ('cgbvs')",
   "language": "python",
   "name": "python3"
  },
  "language_info": {
   "codemirror_mode": {
    "name": "ipython",
    "version": 3
   },
   "file_extension": ".py",
   "mimetype": "text/x-python",
   "name": "python",
   "nbconvert_exporter": "python",
   "pygments_lexer": "ipython3",
   "version": "3.7.10 | packaged by conda-forge | (default, Feb 19 2021, 16:07:37) \n[GCC 9.3.0]"
  },
  "orig_nbformat": 4,
  "vscode": {
   "interpreter": {
    "hash": "77b57ec9daadb32b31ec2781957ce91f65cd7af6d3207f935d33872d2e0fdf58"
   }
  }
 },
 "nbformat": 4,
 "nbformat_minor": 2
}
